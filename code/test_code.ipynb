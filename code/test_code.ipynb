{
 "cells": [
  {
   "cell_type": "code",
   "execution_count": 414,
   "metadata": {
    "collapsed": true
   },
   "outputs": [],
   "source": [
    "import networkx as nx\n",
    "import csv\n",
    "import matplotlib.pyplot as plt\n",
    "import seaborn as sns\n",
    "import numpy as np\n",
    "from matplotlib import cm\n",
    "from mpl_toolkits.axes_grid1 import make_axes_locatable\n",
    "import pandas as pd\n",
    "from scipy.interpolate import UnivariateSpline\n",
    "%matplotlib inline"
   ]
  },
  {
   "cell_type": "code",
   "execution_count": 165,
   "metadata": {
    "collapsed": false
   },
   "outputs": [],
   "source": [
    "df = pd.read_csv('trade_1975.csv')\n",
    "df['ImEx'] = df['Importer']+\" \"+df['Exporter']"
   ]
  },
  {
   "cell_type": "code",
   "execution_count": 349,
   "metadata": {
    "collapsed": false
   },
   "outputs": [
    {
     "data": {
      "text/html": [
       "<div>\n",
       "<table border=\"1\" class=\"dataframe\">\n",
       "  <thead>\n",
       "    <tr style=\"text-align: right;\">\n",
       "      <th></th>\n",
       "      <th>Unnamed: 0</th>\n",
       "      <th>Year</th>\n",
       "      <th>App.</th>\n",
       "      <th>Taxon</th>\n",
       "      <th>Class</th>\n",
       "      <th>Order</th>\n",
       "      <th>Family</th>\n",
       "      <th>Genus</th>\n",
       "      <th>Importer</th>\n",
       "      <th>Exporter</th>\n",
       "      <th>Origin</th>\n",
       "      <th>Importer reported quantity</th>\n",
       "      <th>Exporter reported quantity</th>\n",
       "      <th>Term</th>\n",
       "      <th>Unit</th>\n",
       "      <th>Purpose</th>\n",
       "      <th>Source</th>\n",
       "      <th>ImEx</th>\n",
       "    </tr>\n",
       "  </thead>\n",
       "  <tbody>\n",
       "    <tr>\n",
       "      <th>0</th>\n",
       "      <td>0</td>\n",
       "      <td>1975.0</td>\n",
       "      <td>II</td>\n",
       "      <td>Testudo hermanni</td>\n",
       "      <td>Reptilia</td>\n",
       "      <td>Testudines</td>\n",
       "      <td>Testudinidae</td>\n",
       "      <td>Testudo</td>\n",
       "      <td>CH</td>\n",
       "      <td>YU</td>\n",
       "      <td>NaN</td>\n",
       "      <td>600.0</td>\n",
       "      <td>NaN</td>\n",
       "      <td>live</td>\n",
       "      <td>NaN</td>\n",
       "      <td>T</td>\n",
       "      <td>NaN</td>\n",
       "      <td>CH YU</td>\n",
       "    </tr>\n",
       "    <tr>\n",
       "      <th>1</th>\n",
       "      <td>1</td>\n",
       "      <td>1975.0</td>\n",
       "      <td>I</td>\n",
       "      <td>Alligator mississippiensis</td>\n",
       "      <td>Reptilia</td>\n",
       "      <td>Crocodylia</td>\n",
       "      <td>Alligatoridae</td>\n",
       "      <td>Alligator</td>\n",
       "      <td>CH</td>\n",
       "      <td>DE</td>\n",
       "      <td>NaN</td>\n",
       "      <td>16.0</td>\n",
       "      <td>NaN</td>\n",
       "      <td>skins</td>\n",
       "      <td>NaN</td>\n",
       "      <td>NaN</td>\n",
       "      <td>NaN</td>\n",
       "      <td>CH DE</td>\n",
       "    </tr>\n",
       "    <tr>\n",
       "      <th>2</th>\n",
       "      <td>2</td>\n",
       "      <td>1975.0</td>\n",
       "      <td>I</td>\n",
       "      <td>Crocodylus niloticus</td>\n",
       "      <td>Reptilia</td>\n",
       "      <td>Crocodylia</td>\n",
       "      <td>Crocodylidae</td>\n",
       "      <td>Crocodylus</td>\n",
       "      <td>CH</td>\n",
       "      <td>DE</td>\n",
       "      <td>NaN</td>\n",
       "      <td>12.0</td>\n",
       "      <td>NaN</td>\n",
       "      <td>skins</td>\n",
       "      <td>NaN</td>\n",
       "      <td>NaN</td>\n",
       "      <td>NaN</td>\n",
       "      <td>CH DE</td>\n",
       "    </tr>\n",
       "    <tr>\n",
       "      <th>3</th>\n",
       "      <td>3</td>\n",
       "      <td>1975.0</td>\n",
       "      <td>I</td>\n",
       "      <td>Elephas maximus</td>\n",
       "      <td>Mammalia</td>\n",
       "      <td>Proboscidea</td>\n",
       "      <td>Elephantidae</td>\n",
       "      <td>Elephas</td>\n",
       "      <td>CH</td>\n",
       "      <td>DE</td>\n",
       "      <td>NaN</td>\n",
       "      <td>1.0</td>\n",
       "      <td>NaN</td>\n",
       "      <td>live</td>\n",
       "      <td>NaN</td>\n",
       "      <td>Q</td>\n",
       "      <td>NaN</td>\n",
       "      <td>CH DE</td>\n",
       "    </tr>\n",
       "    <tr>\n",
       "      <th>4</th>\n",
       "      <td>4</td>\n",
       "      <td>1975.0</td>\n",
       "      <td>I</td>\n",
       "      <td>Panthera pardus</td>\n",
       "      <td>Mammalia</td>\n",
       "      <td>Carnivora</td>\n",
       "      <td>Felidae</td>\n",
       "      <td>Panthera</td>\n",
       "      <td>CA</td>\n",
       "      <td>DE</td>\n",
       "      <td>NaN</td>\n",
       "      <td>3.0</td>\n",
       "      <td>NaN</td>\n",
       "      <td>live</td>\n",
       "      <td>NaN</td>\n",
       "      <td>Z</td>\n",
       "      <td>NaN</td>\n",
       "      <td>CA DE</td>\n",
       "    </tr>\n",
       "  </tbody>\n",
       "</table>\n",
       "</div>"
      ],
      "text/plain": [
       "   Unnamed: 0    Year App.                       Taxon     Class        Order  \\\n",
       "0           0  1975.0   II            Testudo hermanni  Reptilia   Testudines   \n",
       "1           1  1975.0    I  Alligator mississippiensis  Reptilia   Crocodylia   \n",
       "2           2  1975.0    I        Crocodylus niloticus  Reptilia   Crocodylia   \n",
       "3           3  1975.0    I             Elephas maximus  Mammalia  Proboscidea   \n",
       "4           4  1975.0    I             Panthera pardus  Mammalia    Carnivora   \n",
       "\n",
       "          Family       Genus Importer Exporter Origin  \\\n",
       "0   Testudinidae     Testudo       CH       YU    NaN   \n",
       "1  Alligatoridae   Alligator       CH       DE    NaN   \n",
       "2   Crocodylidae  Crocodylus       CH       DE    NaN   \n",
       "3   Elephantidae     Elephas       CH       DE    NaN   \n",
       "4        Felidae    Panthera       CA       DE    NaN   \n",
       "\n",
       "   Importer reported quantity  Exporter reported quantity   Term Unit Purpose  \\\n",
       "0                       600.0                         NaN   live  NaN       T   \n",
       "1                        16.0                         NaN  skins  NaN     NaN   \n",
       "2                        12.0                         NaN  skins  NaN     NaN   \n",
       "3                         1.0                         NaN   live  NaN       Q   \n",
       "4                         3.0                         NaN   live  NaN       Z   \n",
       "\n",
       "  Source   ImEx  \n",
       "0    NaN  CH YU  \n",
       "1    NaN  CH DE  \n",
       "2    NaN  CH DE  \n",
       "3    NaN  CH DE  \n",
       "4    NaN  CA DE  "
      ]
     },
     "execution_count": 349,
     "metadata": {},
     "output_type": "execute_result"
    }
   ],
   "source": [
    "df.head()"
   ]
  },
  {
   "cell_type": "code",
   "execution_count": 171,
   "metadata": {
    "collapsed": false
   },
   "outputs": [],
   "source": [
    "df_new = df.groupby(['ImEx']).count()"
   ]
  },
  {
   "cell_type": "code",
   "execution_count": 192,
   "metadata": {
    "collapsed": false,
    "scrolled": true
   },
   "outputs": [
    {
     "data": {
      "text/html": [
       "<div>\n",
       "<table border=\"1\" class=\"dataframe\">\n",
       "  <thead>\n",
       "    <tr style=\"text-align: right;\">\n",
       "      <th></th>\n",
       "      <th>Unnamed: 0</th>\n",
       "      <th>Year</th>\n",
       "      <th>App.</th>\n",
       "      <th>Taxon</th>\n",
       "      <th>Class</th>\n",
       "      <th>Order</th>\n",
       "      <th>Family</th>\n",
       "      <th>Genus</th>\n",
       "      <th>Importer</th>\n",
       "      <th>Exporter</th>\n",
       "      <th>Origin</th>\n",
       "      <th>Importer reported quantity</th>\n",
       "      <th>Exporter reported quantity</th>\n",
       "      <th>Term</th>\n",
       "      <th>Unit</th>\n",
       "      <th>Purpose</th>\n",
       "      <th>Source</th>\n",
       "    </tr>\n",
       "    <tr>\n",
       "      <th>ImEx</th>\n",
       "      <th></th>\n",
       "      <th></th>\n",
       "      <th></th>\n",
       "      <th></th>\n",
       "      <th></th>\n",
       "      <th></th>\n",
       "      <th></th>\n",
       "      <th></th>\n",
       "      <th></th>\n",
       "      <th></th>\n",
       "      <th></th>\n",
       "      <th></th>\n",
       "      <th></th>\n",
       "      <th></th>\n",
       "      <th></th>\n",
       "      <th></th>\n",
       "      <th></th>\n",
       "    </tr>\n",
       "  </thead>\n",
       "  <tbody>\n",
       "    <tr>\n",
       "      <th>BE CA</th>\n",
       "      <td>2</td>\n",
       "      <td>2</td>\n",
       "      <td>2</td>\n",
       "      <td>2</td>\n",
       "      <td>2</td>\n",
       "      <td>2</td>\n",
       "      <td>2</td>\n",
       "      <td>1</td>\n",
       "      <td>2</td>\n",
       "      <td>2</td>\n",
       "      <td>0</td>\n",
       "      <td>0</td>\n",
       "      <td>2</td>\n",
       "      <td>2</td>\n",
       "      <td>0</td>\n",
       "      <td>0</td>\n",
       "      <td>0</td>\n",
       "    </tr>\n",
       "    <tr>\n",
       "      <th>BM CR</th>\n",
       "      <td>1</td>\n",
       "      <td>1</td>\n",
       "      <td>1</td>\n",
       "      <td>1</td>\n",
       "      <td>1</td>\n",
       "      <td>1</td>\n",
       "      <td>1</td>\n",
       "      <td>1</td>\n",
       "      <td>1</td>\n",
       "      <td>1</td>\n",
       "      <td>0</td>\n",
       "      <td>0</td>\n",
       "      <td>1</td>\n",
       "      <td>1</td>\n",
       "      <td>0</td>\n",
       "      <td>0</td>\n",
       "      <td>0</td>\n",
       "    </tr>\n",
       "    <tr>\n",
       "      <th>CA DE</th>\n",
       "      <td>4</td>\n",
       "      <td>4</td>\n",
       "      <td>4</td>\n",
       "      <td>4</td>\n",
       "      <td>4</td>\n",
       "      <td>4</td>\n",
       "      <td>4</td>\n",
       "      <td>3</td>\n",
       "      <td>4</td>\n",
       "      <td>4</td>\n",
       "      <td>2</td>\n",
       "      <td>4</td>\n",
       "      <td>0</td>\n",
       "      <td>4</td>\n",
       "      <td>0</td>\n",
       "      <td>1</td>\n",
       "      <td>0</td>\n",
       "    </tr>\n",
       "    <tr>\n",
       "      <th>CA DK</th>\n",
       "      <td>1</td>\n",
       "      <td>1</td>\n",
       "      <td>1</td>\n",
       "      <td>1</td>\n",
       "      <td>1</td>\n",
       "      <td>1</td>\n",
       "      <td>1</td>\n",
       "      <td>1</td>\n",
       "      <td>1</td>\n",
       "      <td>1</td>\n",
       "      <td>0</td>\n",
       "      <td>1</td>\n",
       "      <td>0</td>\n",
       "      <td>1</td>\n",
       "      <td>0</td>\n",
       "      <td>1</td>\n",
       "      <td>0</td>\n",
       "    </tr>\n",
       "    <tr>\n",
       "      <th>CA GB</th>\n",
       "      <td>3</td>\n",
       "      <td>3</td>\n",
       "      <td>3</td>\n",
       "      <td>3</td>\n",
       "      <td>3</td>\n",
       "      <td>3</td>\n",
       "      <td>3</td>\n",
       "      <td>3</td>\n",
       "      <td>3</td>\n",
       "      <td>3</td>\n",
       "      <td>3</td>\n",
       "      <td>3</td>\n",
       "      <td>0</td>\n",
       "      <td>3</td>\n",
       "      <td>0</td>\n",
       "      <td>0</td>\n",
       "      <td>0</td>\n",
       "    </tr>\n",
       "  </tbody>\n",
       "</table>\n",
       "</div>"
      ],
      "text/plain": [
       "       Unnamed: 0  Year  App.  Taxon  Class  Order  Family  Genus  Importer  \\\n",
       "ImEx                                                                          \n",
       "BE CA           2     2     2      2      2      2       2      1         2   \n",
       "BM CR           1     1     1      1      1      1       1      1         1   \n",
       "CA DE           4     4     4      4      4      4       4      3         4   \n",
       "CA DK           1     1     1      1      1      1       1      1         1   \n",
       "CA GB           3     3     3      3      3      3       3      3         3   \n",
       "\n",
       "       Exporter  Origin  Importer reported quantity  \\\n",
       "ImEx                                                  \n",
       "BE CA         2       0                           0   \n",
       "BM CR         1       0                           0   \n",
       "CA DE         4       2                           4   \n",
       "CA DK         1       0                           1   \n",
       "CA GB         3       3                           3   \n",
       "\n",
       "       Exporter reported quantity  Term  Unit  Purpose  Source  \n",
       "ImEx                                                            \n",
       "BE CA                           2     2     0        0       0  \n",
       "BM CR                           1     1     0        0       0  \n",
       "CA DE                           0     4     0        1       0  \n",
       "CA DK                           0     1     0        1       0  \n",
       "CA GB                           0     3     0        0       0  "
      ]
     },
     "execution_count": 192,
     "metadata": {},
     "output_type": "execute_result"
    }
   ],
   "source": [
    "df_new.head()"
   ]
  },
  {
   "cell_type": "code",
   "execution_count": 210,
   "metadata": {
    "collapsed": false
   },
   "outputs": [],
   "source": [
    "df_new1 = df_new[[0]]"
   ]
  },
  {
   "cell_type": "code",
   "execution_count": 211,
   "metadata": {
    "collapsed": false
   },
   "outputs": [
    {
     "name": "stderr",
     "output_type": "stream",
     "text": [
      "/Users/xueyingbi/DataScienceProjects/Anaconda/lib/python2.7/site-packages/ipykernel/__main__.py:1: SettingWithCopyWarning: \n",
      "A value is trying to be set on a copy of a slice from a DataFrame.\n",
      "Try using .loc[row_indexer,col_indexer] = value instead\n",
      "\n",
      "See the caveats in the documentation: http://pandas.pydata.org/pandas-docs/stable/indexing.html#indexing-view-versus-copy\n",
      "  if __name__ == '__main__':\n"
     ]
    },
    {
     "data": {
      "text/html": [
       "<div>\n",
       "<table border=\"1\" class=\"dataframe\">\n",
       "  <thead>\n",
       "    <tr style=\"text-align: right;\">\n",
       "      <th></th>\n",
       "      <th>trade_vol</th>\n",
       "      <th>ImEx</th>\n",
       "    </tr>\n",
       "  </thead>\n",
       "  <tbody>\n",
       "    <tr>\n",
       "      <th>0</th>\n",
       "      <td>2</td>\n",
       "      <td>BE CA</td>\n",
       "    </tr>\n",
       "    <tr>\n",
       "      <th>1</th>\n",
       "      <td>1</td>\n",
       "      <td>BM CR</td>\n",
       "    </tr>\n",
       "    <tr>\n",
       "      <th>2</th>\n",
       "      <td>4</td>\n",
       "      <td>CA DE</td>\n",
       "    </tr>\n",
       "    <tr>\n",
       "      <th>3</th>\n",
       "      <td>1</td>\n",
       "      <td>CA DK</td>\n",
       "    </tr>\n",
       "    <tr>\n",
       "      <th>4</th>\n",
       "      <td>3</td>\n",
       "      <td>CA GB</td>\n",
       "    </tr>\n",
       "  </tbody>\n",
       "</table>\n",
       "</div>"
      ],
      "text/plain": [
       "  trade_vol   ImEx\n",
       "0         2  BE CA\n",
       "1         1  BM CR\n",
       "2         4  CA DE\n",
       "3         1  CA DK\n",
       "4         3  CA GB"
      ]
     },
     "execution_count": 211,
     "metadata": {},
     "output_type": "execute_result"
    }
   ],
   "source": [
    "df_new1['ImEx'] = df_new1.index\n",
    "df_new1 = pd.DataFrame(df_new1.values)\n",
    "df_new1.columns = ['trade_vol','ImEx']\n",
    "df_new1.head()"
   ]
  },
  {
   "cell_type": "code",
   "execution_count": 212,
   "metadata": {
    "collapsed": false
   },
   "outputs": [],
   "source": [
    "df_split = pd.DataFrame(df_new1.ImEx.str.split(' ',1).tolist(),columns = ['Im','Ex'])"
   ]
  },
  {
   "cell_type": "code",
   "execution_count": 213,
   "metadata": {
    "collapsed": false
   },
   "outputs": [
    {
     "data": {
      "text/html": [
       "<div>\n",
       "<table border=\"1\" class=\"dataframe\">\n",
       "  <thead>\n",
       "    <tr style=\"text-align: right;\">\n",
       "      <th></th>\n",
       "      <th>trade_vol</th>\n",
       "      <th>ImEx</th>\n",
       "      <th>Im</th>\n",
       "      <th>Ex</th>\n",
       "    </tr>\n",
       "  </thead>\n",
       "  <tbody>\n",
       "    <tr>\n",
       "      <th>0</th>\n",
       "      <td>2</td>\n",
       "      <td>BE CA</td>\n",
       "      <td>BE</td>\n",
       "      <td>CA</td>\n",
       "    </tr>\n",
       "    <tr>\n",
       "      <th>1</th>\n",
       "      <td>1</td>\n",
       "      <td>BM CR</td>\n",
       "      <td>BM</td>\n",
       "      <td>CR</td>\n",
       "    </tr>\n",
       "    <tr>\n",
       "      <th>2</th>\n",
       "      <td>4</td>\n",
       "      <td>CA DE</td>\n",
       "      <td>CA</td>\n",
       "      <td>DE</td>\n",
       "    </tr>\n",
       "    <tr>\n",
       "      <th>3</th>\n",
       "      <td>1</td>\n",
       "      <td>CA DK</td>\n",
       "      <td>CA</td>\n",
       "      <td>DK</td>\n",
       "    </tr>\n",
       "    <tr>\n",
       "      <th>4</th>\n",
       "      <td>3</td>\n",
       "      <td>CA GB</td>\n",
       "      <td>CA</td>\n",
       "      <td>GB</td>\n",
       "    </tr>\n",
       "  </tbody>\n",
       "</table>\n",
       "</div>"
      ],
      "text/plain": [
       "  trade_vol   ImEx  Im  Ex\n",
       "0         2  BE CA  BE  CA\n",
       "1         1  BM CR  BM  CR\n",
       "2         4  CA DE  CA  DE\n",
       "3         1  CA DK  CA  DK\n",
       "4         3  CA GB  CA  GB"
      ]
     },
     "execution_count": 213,
     "metadata": {},
     "output_type": "execute_result"
    }
   ],
   "source": [
    "df_concat = pd.concat([df_new1, df_split], axis = 1)\n",
    "df_concat.head()"
   ]
  },
  {
   "cell_type": "code",
   "execution_count": 246,
   "metadata": {
    "collapsed": false
   },
   "outputs": [
    {
     "data": {
      "text/html": [
       "<div>\n",
       "<table border=\"1\" class=\"dataframe\">\n",
       "  <thead>\n",
       "    <tr style=\"text-align: right;\">\n",
       "      <th></th>\n",
       "      <th>trade_vol</th>\n",
       "      <th>ImEx</th>\n",
       "      <th>Im</th>\n",
       "      <th>Ex</th>\n",
       "    </tr>\n",
       "  </thead>\n",
       "  <tbody>\n",
       "    <tr>\n",
       "      <th>0</th>\n",
       "      <td>2</td>\n",
       "      <td>BE CA</td>\n",
       "      <td>BE</td>\n",
       "      <td>CA</td>\n",
       "    </tr>\n",
       "    <tr>\n",
       "      <th>1</th>\n",
       "      <td>1</td>\n",
       "      <td>BM CR</td>\n",
       "      <td>BM</td>\n",
       "      <td>CR</td>\n",
       "    </tr>\n",
       "    <tr>\n",
       "      <th>2</th>\n",
       "      <td>4</td>\n",
       "      <td>CA DE</td>\n",
       "      <td>CA</td>\n",
       "      <td>DE</td>\n",
       "    </tr>\n",
       "    <tr>\n",
       "      <th>3</th>\n",
       "      <td>1</td>\n",
       "      <td>CA DK</td>\n",
       "      <td>CA</td>\n",
       "      <td>DK</td>\n",
       "    </tr>\n",
       "    <tr>\n",
       "      <th>4</th>\n",
       "      <td>3</td>\n",
       "      <td>CA GB</td>\n",
       "      <td>CA</td>\n",
       "      <td>GB</td>\n",
       "    </tr>\n",
       "    <tr>\n",
       "      <th>5</th>\n",
       "      <td>1</td>\n",
       "      <td>CA NZ</td>\n",
       "      <td>CA</td>\n",
       "      <td>NZ</td>\n",
       "    </tr>\n",
       "    <tr>\n",
       "      <th>6</th>\n",
       "      <td>3</td>\n",
       "      <td>CA US</td>\n",
       "      <td>CA</td>\n",
       "      <td>US</td>\n",
       "    </tr>\n",
       "    <tr>\n",
       "      <th>7</th>\n",
       "      <td>1</td>\n",
       "      <td>CD CA</td>\n",
       "      <td>CD</td>\n",
       "      <td>CA</td>\n",
       "    </tr>\n",
       "    <tr>\n",
       "      <th>8</th>\n",
       "      <td>2</td>\n",
       "      <td>CH BE</td>\n",
       "      <td>CH</td>\n",
       "      <td>BE</td>\n",
       "    </tr>\n",
       "    <tr>\n",
       "      <th>9</th>\n",
       "      <td>1</td>\n",
       "      <td>CH BW</td>\n",
       "      <td>CH</td>\n",
       "      <td>BW</td>\n",
       "    </tr>\n",
       "    <tr>\n",
       "      <th>10</th>\n",
       "      <td>3</td>\n",
       "      <td>CH CA</td>\n",
       "      <td>CH</td>\n",
       "      <td>CA</td>\n",
       "    </tr>\n",
       "    <tr>\n",
       "      <th>11</th>\n",
       "      <td>27</td>\n",
       "      <td>CH DE</td>\n",
       "      <td>CH</td>\n",
       "      <td>DE</td>\n",
       "    </tr>\n",
       "    <tr>\n",
       "      <th>12</th>\n",
       "      <td>1</td>\n",
       "      <td>CH FI</td>\n",
       "      <td>CH</td>\n",
       "      <td>FI</td>\n",
       "    </tr>\n",
       "    <tr>\n",
       "      <th>13</th>\n",
       "      <td>12</td>\n",
       "      <td>CH FR</td>\n",
       "      <td>CH</td>\n",
       "      <td>FR</td>\n",
       "    </tr>\n",
       "    <tr>\n",
       "      <th>14</th>\n",
       "      <td>4</td>\n",
       "      <td>CH GB</td>\n",
       "      <td>CH</td>\n",
       "      <td>GB</td>\n",
       "    </tr>\n",
       "    <tr>\n",
       "      <th>15</th>\n",
       "      <td>3</td>\n",
       "      <td>CH GH</td>\n",
       "      <td>CH</td>\n",
       "      <td>GH</td>\n",
       "    </tr>\n",
       "    <tr>\n",
       "      <th>16</th>\n",
       "      <td>1</td>\n",
       "      <td>CH GR</td>\n",
       "      <td>CH</td>\n",
       "      <td>GR</td>\n",
       "    </tr>\n",
       "    <tr>\n",
       "      <th>17</th>\n",
       "      <td>1</td>\n",
       "      <td>CH IN</td>\n",
       "      <td>CH</td>\n",
       "      <td>IN</td>\n",
       "    </tr>\n",
       "    <tr>\n",
       "      <th>18</th>\n",
       "      <td>2</td>\n",
       "      <td>CH IT</td>\n",
       "      <td>CH</td>\n",
       "      <td>IT</td>\n",
       "    </tr>\n",
       "    <tr>\n",
       "      <th>19</th>\n",
       "      <td>4</td>\n",
       "      <td>CH KE</td>\n",
       "      <td>CH</td>\n",
       "      <td>KE</td>\n",
       "    </tr>\n",
       "    <tr>\n",
       "      <th>20</th>\n",
       "      <td>1</td>\n",
       "      <td>CH LR</td>\n",
       "      <td>CH</td>\n",
       "      <td>LR</td>\n",
       "    </tr>\n",
       "    <tr>\n",
       "      <th>21</th>\n",
       "      <td>1</td>\n",
       "      <td>CH NC</td>\n",
       "      <td>CH</td>\n",
       "      <td>NC</td>\n",
       "    </tr>\n",
       "    <tr>\n",
       "      <th>22</th>\n",
       "      <td>1</td>\n",
       "      <td>CH NI</td>\n",
       "      <td>CH</td>\n",
       "      <td>NI</td>\n",
       "    </tr>\n",
       "    <tr>\n",
       "      <th>23</th>\n",
       "      <td>1</td>\n",
       "      <td>CH NL</td>\n",
       "      <td>CH</td>\n",
       "      <td>NL</td>\n",
       "    </tr>\n",
       "    <tr>\n",
       "      <th>24</th>\n",
       "      <td>1</td>\n",
       "      <td>CH PG</td>\n",
       "      <td>CH</td>\n",
       "      <td>PG</td>\n",
       "    </tr>\n",
       "    <tr>\n",
       "      <th>25</th>\n",
       "      <td>1</td>\n",
       "      <td>CH PH</td>\n",
       "      <td>CH</td>\n",
       "      <td>PH</td>\n",
       "    </tr>\n",
       "    <tr>\n",
       "      <th>26</th>\n",
       "      <td>2</td>\n",
       "      <td>CH PT</td>\n",
       "      <td>CH</td>\n",
       "      <td>PT</td>\n",
       "    </tr>\n",
       "    <tr>\n",
       "      <th>27</th>\n",
       "      <td>2</td>\n",
       "      <td>CH PY</td>\n",
       "      <td>CH</td>\n",
       "      <td>PY</td>\n",
       "    </tr>\n",
       "    <tr>\n",
       "      <th>28</th>\n",
       "      <td>1</td>\n",
       "      <td>CH SC</td>\n",
       "      <td>CH</td>\n",
       "      <td>SC</td>\n",
       "    </tr>\n",
       "    <tr>\n",
       "      <th>29</th>\n",
       "      <td>7</td>\n",
       "      <td>CH TH</td>\n",
       "      <td>CH</td>\n",
       "      <td>TH</td>\n",
       "    </tr>\n",
       "    <tr>\n",
       "      <th>30</th>\n",
       "      <td>1</td>\n",
       "      <td>CH US</td>\n",
       "      <td>CH</td>\n",
       "      <td>US</td>\n",
       "    </tr>\n",
       "    <tr>\n",
       "      <th>31</th>\n",
       "      <td>1</td>\n",
       "      <td>CH YU</td>\n",
       "      <td>CH</td>\n",
       "      <td>YU</td>\n",
       "    </tr>\n",
       "    <tr>\n",
       "      <th>32</th>\n",
       "      <td>1</td>\n",
       "      <td>CH ZA</td>\n",
       "      <td>CH</td>\n",
       "      <td>ZA</td>\n",
       "    </tr>\n",
       "    <tr>\n",
       "      <th>33</th>\n",
       "      <td>3</td>\n",
       "      <td>DE CA</td>\n",
       "      <td>DE</td>\n",
       "      <td>CA</td>\n",
       "    </tr>\n",
       "    <tr>\n",
       "      <th>34</th>\n",
       "      <td>2</td>\n",
       "      <td>GB CA</td>\n",
       "      <td>GB</td>\n",
       "      <td>CA</td>\n",
       "    </tr>\n",
       "    <tr>\n",
       "      <th>35</th>\n",
       "      <td>2</td>\n",
       "      <td>JP CA</td>\n",
       "      <td>JP</td>\n",
       "      <td>CA</td>\n",
       "    </tr>\n",
       "    <tr>\n",
       "      <th>36</th>\n",
       "      <td>1</td>\n",
       "      <td>SE GB</td>\n",
       "      <td>SE</td>\n",
       "      <td>GB</td>\n",
       "    </tr>\n",
       "    <tr>\n",
       "      <th>37</th>\n",
       "      <td>8</td>\n",
       "      <td>US CA</td>\n",
       "      <td>US</td>\n",
       "      <td>CA</td>\n",
       "    </tr>\n",
       "    <tr>\n",
       "      <th>38</th>\n",
       "      <td>28</td>\n",
       "      <td>XX CH</td>\n",
       "      <td>XX</td>\n",
       "      <td>CH</td>\n",
       "    </tr>\n",
       "  </tbody>\n",
       "</table>\n",
       "</div>"
      ],
      "text/plain": [
       "   trade_vol   ImEx  Im  Ex\n",
       "0          2  BE CA  BE  CA\n",
       "1          1  BM CR  BM  CR\n",
       "2          4  CA DE  CA  DE\n",
       "3          1  CA DK  CA  DK\n",
       "4          3  CA GB  CA  GB\n",
       "5          1  CA NZ  CA  NZ\n",
       "6          3  CA US  CA  US\n",
       "7          1  CD CA  CD  CA\n",
       "8          2  CH BE  CH  BE\n",
       "9          1  CH BW  CH  BW\n",
       "10         3  CH CA  CH  CA\n",
       "11        27  CH DE  CH  DE\n",
       "12         1  CH FI  CH  FI\n",
       "13        12  CH FR  CH  FR\n",
       "14         4  CH GB  CH  GB\n",
       "15         3  CH GH  CH  GH\n",
       "16         1  CH GR  CH  GR\n",
       "17         1  CH IN  CH  IN\n",
       "18         2  CH IT  CH  IT\n",
       "19         4  CH KE  CH  KE\n",
       "20         1  CH LR  CH  LR\n",
       "21         1  CH NC  CH  NC\n",
       "22         1  CH NI  CH  NI\n",
       "23         1  CH NL  CH  NL\n",
       "24         1  CH PG  CH  PG\n",
       "25         1  CH PH  CH  PH\n",
       "26         2  CH PT  CH  PT\n",
       "27         2  CH PY  CH  PY\n",
       "28         1  CH SC  CH  SC\n",
       "29         7  CH TH  CH  TH\n",
       "30         1  CH US  CH  US\n",
       "31         1  CH YU  CH  YU\n",
       "32         1  CH ZA  CH  ZA\n",
       "33         3  DE CA  DE  CA\n",
       "34         2  GB CA  GB  CA\n",
       "35         2  JP CA  JP  CA\n",
       "36         1  SE GB  SE  GB\n",
       "37         8  US CA  US  CA\n",
       "38        28  XX CH  XX  CH"
      ]
     },
     "execution_count": 246,
     "metadata": {},
     "output_type": "execute_result"
    }
   ],
   "source": [
    "df_concat"
   ]
  },
  {
   "cell_type": "code",
   "execution_count": null,
   "metadata": {
    "collapsed": true
   },
   "outputs": [],
   "source": []
  },
  {
   "cell_type": "code",
   "execution_count": 354,
   "metadata": {
    "collapsed": false
   },
   "outputs": [],
   "source": [
    "# create a direct graph with Im Ex country code and trade_vol\n",
    "G = nx.from_pandas_dataframe(df_concat, 'Im', 'Ex', ['trade_vol', 'ImEx'], create_using=nx.DiGraph())"
   ]
  },
  {
   "cell_type": "code",
   "execution_count": 312,
   "metadata": {
    "collapsed": false
   },
   "outputs": [],
   "source": [
    "# Calculate centrality of matrix G \n",
    "# with the trade_vol as weights\n",
    "# ec = nx.eigenvector_centrality_numpy(G, weight='trade_vol')\n",
    "ec = nx.degree_centrality(G)\n",
    "\n",
    "# Set this as a node attribute for each node\n",
    "nx.set_node_attributes(G, 'cent', ec)\n",
    "\n",
    "# Use this measure to determine the node color in viz\n",
    "node_color = [float(G.node[v]['cent']) for v in G]"
   ]
  },
  {
   "cell_type": "code",
   "execution_count": 332,
   "metadata": {
    "collapsed": false
   },
   "outputs": [
    {
     "name": "stdout",
     "output_type": "stream",
     "text": [
      "[0.06060606060606061, 0.030303030303030304, 0.030303030303030304, 0.030303030303030304, 0.030303030303030304, 0.09090909090909091, 0.030303030303030304, 0.030303030303030304, 0.030303030303030304, 0.030303030303030304, 0.030303030303030304, 0.030303030303030304, 0.030303030303030304, 0.030303030303030304, 0.030303030303030304, 0.030303030303030304, 0.030303030303030304, 0.030303030303030304, 0.030303030303030304, 0.030303030303030304, 0.7878787878787878, 0.030303030303030304, 0.36363636363636365, 0.030303030303030304, 0.030303030303030304, 0.030303030303030304, 0.12121212121212122, 0.030303030303030304, 0.030303030303030304, 0.030303030303030304, 0.030303030303030304, 0.09090909090909091, 0.030303030303030304, 0.030303030303030304]\n"
     ]
    }
   ],
   "source": [
    "print node_color"
   ]
  },
  {
   "cell_type": "code",
   "execution_count": 309,
   "metadata": {
    "collapsed": false
   },
   "outputs": [],
   "source": [
    "# Blank dictionary to store total exports\n",
    "totimp = {}\n",
    "\n",
    "# Calculate total imports of each country in the network\n",
    "for imp in G.nodes(): \n",
    "     tx=sum([float(g) for imp,ex,g in G.out_edges_iter(imp, 'trade_vol')])\n",
    "     totimp[imp] = tx\n",
    "     avgexp = np.mean(tx)\n",
    "nx.set_node_attributes(G, 'totimp', totimp)\n",
    "\n",
    "# Use the results later for the node's size in the graph\n",
    "node_size = [float(G.node[v]['totimp'])*10 / avgexp for v in G]"
   ]
  },
  {
   "cell_type": "code",
   "execution_count": 310,
   "metadata": {
    "collapsed": false
   },
   "outputs": [
    {
     "name": "stdout",
     "output_type": "stream",
     "text": [
      "[20.0, 0.0, 0.0, 0.0, 10.0, 30.0, 20.0, 0.0, 0.0, 0.0, 0.0, 0.0, 0.0, 0.0, 0.0, 0.0, 0.0, 0.0, 0.0, 0.0, 820.0, 0.0, 120.0, 0.0, 10.0, 280.0, 20.0, 0.0, 0.0, 0.0, 0.0, 80.0, 0.0, 10.0]\n"
     ]
    }
   ],
   "source": [
    "print node_size"
   ]
  },
  {
   "cell_type": "code",
   "execution_count": 347,
   "metadata": {
    "collapsed": false
   },
   "outputs": [
    {
     "data": {
      "image/png": "[encoded data removed]",
      "text/plain": [
       "<matplotlib.figure.Figure at 0x11f046d50>"
      ]
     },
     "metadata": {},
     "output_type": "display_data"
    }
   ],
   "source": [
    "# Visualization\n",
    "# Calculate position of each node in G using networkx spring layout\n",
    "pos = nx.spring_layout(G,k=30,iterations=8) \n",
    "\n",
    "# Draw nodes\n",
    "nodes = nx.draw_networkx_nodes(G,pos, node_size=node_size, \\\n",
    "                               node_color=node_color, alpha=0.5, cmap=plt.get_cmap('cool')) \n",
    "# Draw edges\n",
    "edges = nx.draw_networkx_edges(G, pos, edge_color='black', \\\n",
    "                               arrows=False, width=0.05,)\n",
    "\n",
    "# Add labels\n",
    "nx.draw_networkx_labels(G,pos,font_size=5)\n",
    "nodes.set_edgecolor('black')\n",
    "\n",
    "# Add labels and title\n",
    "plt.text(0,-0.1, \\\n",
    "         'Node color is degree centrality; \\\n",
    "         Node size is number of trades', \\\n",
    "         fontsize=7)\n",
    "plt.title('Animal import trade network, ' + str(1975), fontsize=12)\n",
    "\n",
    "# Bar with color scale for eigenvalues\n",
    "cbar = plt.colorbar(mappable=nodes, cax=None, ax=None, fraction=0.015, pad=0.04)\n",
    "cbar.set_clim(0, 1)\n",
    "\n",
    "# Plot options\n",
    "plt.margins(0,0)\n",
    "plt.axis('off')\n",
    "plt.savefig('1975.png', dpi=1000)"
   ]
  },
  {
   "cell_type": "code",
   "execution_count": 341,
   "metadata": {
    "collapsed": false
   },
   "outputs": [
    {
     "data": {
      "text/plain": [
       "<matplotlib.figure.Figure at 0x11eac54d0>"
      ]
     },
     "metadata": {},
     "output_type": "display_data"
    }
   ],
   "source": []
  },
  {
   "cell_type": "code",
   "execution_count": 350,
   "metadata": {
    "collapsed": true
   },
   "outputs": [],
   "source": [
    "# degree of separation"
   ]
  },
  {
   "cell_type": "code",
   "execution_count": 370,
   "metadata": {
    "collapsed": true
   },
   "outputs": [],
   "source": [
    "df_complete = pd.read_csv('trade_complete.csv')"
   ]
  },
  {
   "cell_type": "code",
   "execution_count": 371,
   "metadata": {
    "collapsed": true
   },
   "outputs": [],
   "source": [
    "df_graph = df_complete[['Year','Importer','Exporter']]"
   ]
  },
  {
   "cell_type": "code",
   "execution_count": 372,
   "metadata": {
    "collapsed": true
   },
   "outputs": [],
   "source": [
    "df2000 = df_graph.loc[df_graph['Year'] == 2000]"
   ]
  },
  {
   "cell_type": "code",
   "execution_count": 380,
   "metadata": {
    "collapsed": false
   },
   "outputs": [],
   "source": [
    "df1990 = df_graph.loc[df_graph['Year'] == 1990]"
   ]
  },
  {
   "cell_type": "code",
   "execution_count": 377,
   "metadata": {
    "collapsed": true
   },
   "outputs": [],
   "source": [
    "df2010 = df_graph.loc[df_graph['Year'] == 2010]"
   ]
  },
  {
   "cell_type": "code",
   "execution_count": 407,
   "metadata": {
    "collapsed": false
   },
   "outputs": [],
   "source": [
    "df_list = []\n",
    "y = range(1976, 2016)\n",
    "for i in y:\n",
    "    df_list.append(df_graph.loc[df_graph['Year'] == i])\n"
   ]
  },
  {
   "cell_type": "code",
   "execution_count": 396,
   "metadata": {
    "collapsed": false
   },
   "outputs": [],
   "source": [
    "def degree_of_separation(df_list):\n",
    "    degree = []\n",
    "    for df in df_list:\n",
    "        G_undir = nx.from_pandas_dataframe(df, 'Importer', 'Exporter')\n",
    "        for g in nx.connected_component_subgraphs(G_undir):\n",
    "            degree.append(nx.average_shortest_path_length(g))\n",
    "    return degree"
   ]
  },
  {
   "cell_type": "code",
   "execution_count": null,
   "metadata": {
    "collapsed": true
   },
   "outputs": [],
   "source": []
  },
  {
   "cell_type": "code",
   "execution_count": 408,
   "metadata": {
    "collapsed": false
   },
   "outputs": [],
   "source": [
    "degree75_15 = degree_of_separation(df_list)"
   ]
  },
  {
   "cell_type": "code",
   "execution_count": 409,
   "metadata": {
    "collapsed": false
   },
   "outputs": [
    {
     "name": "stdout",
     "output_type": "stream",
     "text": [
      "40 40 40\n"
     ]
    }
   ],
   "source": [
    "print len(degree75_15), len(df_list), len(y)"
   ]
  },
  {
   "cell_type": "code",
   "execution_count": 405,
   "metadata": {
    "collapsed": false
   },
   "outputs": [
    {
     "name": "stdout",
     "output_type": "stream",
     "text": [
      "[2.155241935483871, 1.0, 2.345050505050505, 2.1773957083833135, 2.1500513874614593, 2.171321247754369, 2.1380438565958926, 2.0474636202910377, 2.0822470515207945, 2.091627420198849, 2.0417743830787307, 2.063335976738039, 2.0412905293520645, 2.0381998953427525, 1.9903468586387434, 2.0202020202020203, 2.0207462686567164, 2.0643781094527363, 2.084192123665808, 2.11103729294003, 2.0631315389430385, 2.0995001086720277, 2.051507321274763, 2.0594811401263016, 2.01131221719457, 2.006159603914077, 1.9845285149632976, 1.9951531744857185, 1.9840798209896922, 1.9748843110912075, 1.9495492246664263, 1.9870914682113996, 1.9606615658087951, 1.9905726128902095, 2.012551856185512, 1.9901580878570693, 2.0080567081604426, 1.9750712000281283, 1.9923092491398502, 1.99710913852328, 1.9821576763485478, 2.0006328891389193]\n"
     ]
    }
   ],
   "source": [
    "print degree75_15"
   ]
  },
  {
   "cell_type": "code",
   "execution_count": null,
   "metadata": {
    "collapsed": false
   },
   "outputs": [
    {
     "name": "stdout",
     "output_type": "stream",
     "text": [
      "The history saving thread hit an unexpected error (TypeError('super(type, obj): obj must be an instance or subtype of type',)).History will not be written to the database.\n"
     ]
    },
    {
     "data": {
      "image/png": "[encoded data removed]",
      "text/plain": [
       "<matplotlib.figure.Figure at 0x102d2e890>"
      ]
     },
     "metadata": {},
     "output_type": "display_data"
    },
    {
     "name": "stderr",
     "output_type": "stream",
     "text": [
      "Traceback (most recent call last):\n",
      "  File \"/Users/xueyingbi/DataScienceProjects/Anaconda/lib/python2.7/logging/__init__.py\", line 861, in emit\n",
      "    msg = self.format(record)\n",
      "  File \"/Users/xueyingbi/DataScienceProjects/Anaconda/lib/python2.7/logging/__init__.py\", line 734, in format\n",
      "    return fmt.format(record)\n",
      "  File \"/Users/xueyingbi/DataScienceProjects/Anaconda/lib/python2.7/site-packages/traitlets/config/application.py\", line 117, in format\n",
      "    return super(LevelFormatter, self).format(record)\n",
      "TypeError: super(type, obj): obj must be an instance or subtype of type\n",
      "Logged from file kernelbase.py, line 230\n"
     ]
    }
   ],
   "source": [
    "sns.plt.plot(y, degree75_15)\n",
    "sns.plt.title('Degree of Separation', fontsize=12)\n",
    "plt.savefig('DoS.png', dpi=1000)"
   ]
  },
  {
   "cell_type": "code",
   "execution_count": 418,
   "metadata": {
    "collapsed": false
   },
   "outputs": [
    {
     "data": {
      "text/plain": [
       "[<matplotlib.lines.Line2D at 0x11de77f50>]"
      ]
     },
     "execution_count": 418,
     "metadata": {},
     "output_type": "execute_result"
    },
    {
     "data": {
      "image/png": "[encoded data removed]",
      "text/plain": [
       "<matplotlib.figure.Figure at 0x106401810>"
      ]
     },
     "metadata": {},
     "output_type": "display_data"
    }
   ],
   "source": [
    "spl = UnivariateSpline(y, degree75_15)\n",
    "xs = np.linspace(1975,2015, 1000)\n",
    "spl.set_smoothing_factor(.01)\n",
    "plt.plot(xs, spl(xs), linewidth = 2)"
   ]
  },
  {
   "cell_type": "code",
   "execution_count": null,
   "metadata": {
    "collapsed": true
   },
   "outputs": [],
   "source": []
  }
 ],
 "metadata": {
  "anaconda-cloud": {},
  "kernelspec": {
   "display_name": "Python [conda root]",
   "language": "python",
   "name": "conda-root-py"
  },
  "language_info": {
   "codemirror_mode": {
    "name": "ipython",
    "version": 2
   },
   "file_extension": ".py",
   "mimetype": "text/x-python",
   "name": "python",
   "nbconvert_exporter": "python",
   "pygments_lexer": "ipython2",
   "version": "2.7.12"
  }
 },
 "nbformat": 4,
 "nbformat_minor": 1
}
